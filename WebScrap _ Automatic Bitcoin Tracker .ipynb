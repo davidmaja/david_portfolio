{
 "cells": [
  {
   "cell_type": "code",
   "execution_count": 82,
   "id": "b1f9ffd3-30c1-4d38-8ea0-e10d7072c379",
   "metadata": {},
   "outputs": [],
   "source": [
    "from bs4 import BeautifulSoup\n",
    "import requests"
   ]
  },
  {
   "cell_type": "code",
   "execution_count": 84,
   "id": "5e856475-b445-437e-8b39-986df3dabcb4",
   "metadata": {},
   "outputs": [],
   "source": [
    "url = 'https://coinmarketcap.com/currencies/bitcoin/'\n",
    "\n",
    "page = requests.get(url)\n",
    "\n",
    "soup = BeautifulSoup(page.text, 'html')\n"
   ]
  },
  {
   "cell_type": "code",
   "execution_count": 85,
   "id": "55ea9799-7a83-4302-b3f7-d3ca1026805f",
   "metadata": {},
   "outputs": [
    {
     "data": {
      "text/plain": [
       "'Bitcoin price'"
      ]
     },
     "execution_count": 85,
     "metadata": {},
     "output_type": "execute_result"
    }
   ],
   "source": [
    "soup.find('span', class_ = 'sc-65e7f566-0 lsTl').text"
   ]
  },
  {
   "cell_type": "code",
   "execution_count": 87,
   "id": "1eb33295-d56e-4f64-90a0-5c335d59428b",
   "metadata": {},
   "outputs": [
    {
     "name": "stdout",
     "output_type": "stream",
     "text": [
      "Bitcoin price\n"
     ]
    }
   ],
   "source": [
    "crypto_name = soup.find('span', class_ = 'sc-65e7f566-0 lsTl').text\n",
    "print(crypto_name)"
   ]
  },
  {
   "cell_type": "code",
   "execution_count": 90,
   "id": "b793f4ce-59f1-47f0-8ee5-58a22d77fd73",
   "metadata": {},
   "outputs": [
    {
     "data": {
      "text/plain": [
       "<span class=\"sc-65e7f566-0 esyGGG base-text\" data-test=\"text-cdp-price-display\">$109,803.44</span>"
      ]
     },
     "execution_count": 90,
     "metadata": {},
     "output_type": "execute_result"
    }
   ],
   "source": [
    "soup.find('span', class_ = 'sc-65e7f566-0 esyGGG base-text') "
   ]
  },
  {
   "cell_type": "code",
   "execution_count": 92,
   "id": "6a61d34f-1455-466f-8bf0-489445f07cb8",
   "metadata": {},
   "outputs": [
    {
     "data": {
      "text/plain": [
       "'$109,803.44'"
      ]
     },
     "execution_count": 92,
     "metadata": {},
     "output_type": "execute_result"
    }
   ],
   "source": [
    "soup.find('span', class_ = 'sc-65e7f566-0 esyGGG base-text').text"
   ]
  },
  {
   "cell_type": "code",
   "execution_count": 94,
   "id": "2c48a907-dcb2-4228-af4f-45e15a555624",
   "metadata": {},
   "outputs": [],
   "source": [
    "crypto_price = soup.find('span', class_ = 'sc-65e7f566-0 esyGGG base-text').text"
   ]
  },
  {
   "cell_type": "code",
   "execution_count": 96,
   "id": "022bd4bc-600b-4926-9c72-3378aeb04fb6",
   "metadata": {},
   "outputs": [],
   "source": [
    "import pandas as pd"
   ]
  },
  {
   "cell_type": "code",
   "execution_count": 98,
   "id": "5f495677-f614-4abe-aa6a-3a5384fcc8b8",
   "metadata": {},
   "outputs": [
    {
     "name": "stdout",
     "output_type": "stream",
     "text": [
      "2025-05-26 14:24:46.678883\n"
     ]
    }
   ],
   "source": [
    "from datetime import datetime \n",
    "\n",
    "date_time = datetime.now()\n",
    "\n",
    "print(date_time)"
   ]
  },
  {
   "cell_type": "code",
   "execution_count": 100,
   "id": "4e85e0a4-6525-4812-9c2e-dc14a3dde3ae",
   "metadata": {},
   "outputs": [
    {
     "data": {
      "text/html": [
       "<div>\n",
       "<style scoped>\n",
       "    .dataframe tbody tr th:only-of-type {\n",
       "        vertical-align: middle;\n",
       "    }\n",
       "\n",
       "    .dataframe tbody tr th {\n",
       "        vertical-align: top;\n",
       "    }\n",
       "\n",
       "    .dataframe thead th {\n",
       "        text-align: right;\n",
       "    }\n",
       "</style>\n",
       "<table border=\"1\" class=\"dataframe\">\n",
       "  <thead>\n",
       "    <tr style=\"text-align: right;\">\n",
       "      <th></th>\n",
       "      <th>Crypto Name</th>\n",
       "      <th>Price</th>\n",
       "      <th>Time Stamp</th>\n",
       "    </tr>\n",
       "  </thead>\n",
       "  <tbody>\n",
       "    <tr>\n",
       "      <th>0</th>\n",
       "      <td>Bitcoin price</td>\n",
       "      <td>$109,803.44</td>\n",
       "      <td>2025-05-26 14:24:47.044248</td>\n",
       "    </tr>\n",
       "  </tbody>\n",
       "</table>\n",
       "</div>"
      ],
      "text/plain": [
       "     Crypto Name        Price                 Time Stamp\n",
       "0  Bitcoin price  $109,803.44 2025-05-26 14:24:47.044248"
      ]
     },
     "execution_count": 100,
     "metadata": {},
     "output_type": "execute_result"
    }
   ],
   "source": [
    "date_time = datetime.now()\n",
    "\n",
    "dict = {'Crypto Name': crypto_name,\n",
    "         'Price': crypto_price,\n",
    "           'Time Stamp':date_time }\n",
    "\n",
    "df = pd.DataFrame([dict])\n",
    "df"
   ]
  },
  {
   "cell_type": "code",
   "execution_count": 102,
   "id": "f1aba36d-e2e9-46fd-a077-b7f7ef32933f",
   "metadata": {},
   "outputs": [],
   "source": [
    "df.to_csv(r'/Users/davidmaja/Downloads/Mock Folder/Bitcoin_scraper.csv')"
   ]
  },
  {
   "cell_type": "code",
   "execution_count": 104,
   "id": "05c7d2b5-f69e-44f2-a65b-19191a6fd56d",
   "metadata": {},
   "outputs": [],
   "source": [
    "import os "
   ]
  },
  {
   "cell_type": "code",
   "execution_count": 106,
   "id": "37901915-21e1-4a05-ba8b-930eaa9aa424",
   "metadata": {},
   "outputs": [],
   "source": [
    "if os.path.exists(r'/Users/davidmaja/Downloads/Mock Folder/Bitcoin_scraper.csv'):\n",
    "    df.to_csv(r'/Users/davidmaja/Downloads/Mock Folder/Bitcoin_scraper.csv', mode='a', header = False, index = False)\n",
    "else: \n",
    "    df.to_csv(r'/Users/davidmaja/Downloads/Mock Folder/Bitcoin_scraper.csv')"
   ]
  },
  {
   "cell_type": "code",
   "execution_count": 108,
   "id": "96feeaad-d30e-4513-9321-6252fbdd1427",
   "metadata": {},
   "outputs": [],
   "source": [
    "from bs4 import BeautifulSoup\n",
    "import requests\n",
    "import pandas as pd\n",
    "from datetime import datetime \n",
    "import os \n",
    "import time"
   ]
  },
  {
   "cell_type": "code",
   "execution_count": null,
   "id": "d78f05cd-0d35-4291-873a-e7f762a3ab7f",
   "metadata": {},
   "outputs": [],
   "source": [
    "def auto_crypto_scraper():\n",
    "    \n",
    "    url = 'https://coinmarketcap.com/currencies/bitcoin/'\n",
    "    \n",
    "    page = requests.get(url)\n",
    "    \n",
    "    soup = BeautifulSoup(page.text, 'html')\n",
    "    \n",
    "    crypto_price = soup.find('span', class_ = 'sc-65e7f566-0 WXGwg base-text')\n",
    "    \n",
    "\n",
    "    crypto_name = soup.find('span', class_ = 'sc-65e7f566-0 lsTl').text\n",
    "    \n",
    "    \n",
    "    date_time = datetime.now()\n",
    "    \n",
    "    dict = {'Crypto Name': crypto_name,\n",
    "             'Price': crypto_price,\n",
    "               'Time Stamp':date_time }\n",
    "    \n",
    "    df = pd.DataFrame([dict])\n",
    "    \n",
    "    if os.path.exists(r'/Users/davidmaja/Downloads/Mock Folder/Bitcoin_scraper.csv'):\n",
    "        df.to_csv(r'/Users/davidmaja/Downloads/Mock Folder/Bitcoin_scraper.csv', mode='a', header = False, index = False)\n",
    "    else: \n",
    "        df.to_csv(r'/Users/davidmaja/Downloads/Mock Folder/Bitcoin_scraper.csv')"
   ]
  },
  {
   "cell_type": "code",
   "execution_count": null,
   "id": "3ea2516b-7762-4cdd-8a67-b6b64ea92376",
   "metadata": {},
   "outputs": [],
   "source": [
    "import time"
   ]
  },
  {
   "cell_type": "code",
   "execution_count": null,
   "id": "f254b2aa-04fc-4f40-b281-ae484c7bb253",
   "metadata": {},
   "outputs": [],
   "source": [
    "while True:\n",
    "    auto_crypto_scraper()\n",
    "    time.sleep(3600)"
   ]
  }
 ],
 "metadata": {
  "kernelspec": {
   "display_name": "Python 3 (ipykernel)",
   "language": "python",
   "name": "python3"
  },
  "language_info": {
   "codemirror_mode": {
    "name": "ipython",
    "version": 3
   },
   "file_extension": ".py",
   "mimetype": "text/x-python",
   "name": "python",
   "nbconvert_exporter": "python",
   "pygments_lexer": "ipython3",
   "version": "3.12.7"
  }
 },
 "nbformat": 4,
 "nbformat_minor": 5
}
