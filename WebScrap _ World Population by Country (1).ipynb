{
 "cells": [
  {
   "cell_type": "code",
   "execution_count": 7,
   "id": "439fd875-0a8b-4dc5-8109-db44f2370ba7",
   "metadata": {},
   "outputs": [],
   "source": [
    "from bs4 import BeautifulSoup\n",
    "import requests"
   ]
  },
  {
   "cell_type": "code",
   "execution_count": 15,
   "id": "d53c0651-5c3a-4da1-9361-e7bbe648af57",
   "metadata": {},
   "outputs": [],
   "source": [
    "url = 'https://www.worldometers.info/world-population/population-by-country/'\n",
    "\n",
    "\n",
    "page = requests.get(url)\n",
    "\n",
    "soup = BeautifulSoup(page.text, 'html')"
   ]
  },
  {
   "cell_type": "code",
   "execution_count": 75,
   "id": "30cb1f7a-860f-4008-96b5-81ba75138a47",
   "metadata": {},
   "outputs": [],
   "source": [
    "#print(soup)"
   ]
  },
  {
   "cell_type": "code",
   "execution_count": 21,
   "id": "96a27863-9385-4b99-ad9e-481eaeaa1019",
   "metadata": {},
   "outputs": [],
   "source": [
    "table = soup.find('table')"
   ]
  },
  {
   "cell_type": "code",
   "execution_count": 77,
   "id": "d87400bf-46cb-45f4-991d-a35138111d4f",
   "metadata": {},
   "outputs": [],
   "source": [
    "#table"
   ]
  },
  {
   "cell_type": "code",
   "execution_count": 39,
   "id": "70ee3f6c-9df4-4b7e-b30e-5c2531e989ff",
   "metadata": {},
   "outputs": [
    {
     "data": {
      "text/plain": [
       "[<span>#</span>,\n",
       " <span>Country (or<br/>dependency)</span>,\n",
       " <span>Population<br/>(2025)</span>,\n",
       " <span>Yearly<br/>Change</span>,\n",
       " <span>Net<br/>Change</span>,\n",
       " <span>Density<br/>(P/Km²)</span>,\n",
       " <span>Land Area<br/>(Km²)</span>,\n",
       " <span>Migrants<br/>(net)</span>,\n",
       " <span>Fert.<br/>Rate</span>,\n",
       " <span>Median<br/>Age</span>,\n",
       " <span>Urban<br/>Pop %</span>,\n",
       " <span>World<br/>Share</span>]"
      ]
     },
     "execution_count": 39,
     "metadata": {},
     "output_type": "execute_result"
    }
   ],
   "source": [
    "table.find_all('span')"
   ]
  },
  {
   "cell_type": "code",
   "execution_count": 53,
   "id": "8bf007a7-70c4-4e26-9805-9a9e70348888",
   "metadata": {},
   "outputs": [],
   "source": [
    "world_columns = table.find_all('span')"
   ]
  },
  {
   "cell_type": "code",
   "execution_count": 55,
   "id": "e5cf0c7f-a652-47fe-9fc5-d0a4e1bca539",
   "metadata": {},
   "outputs": [
    {
     "name": "stdout",
     "output_type": "stream",
     "text": [
      "['#', 'Country (ordependency)', 'Population(2025)', 'YearlyChange', 'NetChange', 'Density(P/Km²)', 'Land Area(Km²)', 'Migrants(net)', 'Fert.Rate', 'MedianAge', 'UrbanPop %', 'WorldShare']\n"
     ]
    }
   ],
   "source": [
    "world_column_titles = [columns.text for columns in world_columns]\n",
    "\n",
    "print(world_column_titles)"
   ]
  },
  {
   "cell_type": "code",
   "execution_count": 79,
   "id": "08b7414e-c635-4155-9801-a240617bc636",
   "metadata": {},
   "outputs": [],
   "source": [
    "import pandas as pd\n",
    "\n",
    "df = pd.DataFrame(columns = world_column_titles)"
   ]
  },
  {
   "cell_type": "code",
   "execution_count": null,
   "id": "8c93d0bc-e189-4f29-8304-7367a116fe44",
   "metadata": {},
   "outputs": [],
   "source": [
    "table.find_all('td')"
   ]
  },
  {
   "cell_type": "markdown",
   "id": "cc4a24b3-fa5a-4bed-a62b-cf1ed442d23d",
   "metadata": {},
   "source": [
    "world_rows = table.find_all('tr') "
   ]
  },
  {
   "cell_type": "code",
   "execution_count": 71,
   "id": "57463815-8bed-44aa-a643-02d27217281f",
   "metadata": {},
   "outputs": [
    {
     "name": "stdout",
     "output_type": "stream",
     "text": [
      "[' 233 ', ' Holy See ', ' 501 ', ' 1.01% ', ' 5 ', ' 1,253 ', ' 0 ', ' 13 ', ' 1 ', ' 57.4 ', ' ', ' 0.0000061% ']\n"
     ]
    }
   ],
   "source": [
    "for row in world_rows[1:]:\n",
    "    row_data = row.find_all('td')\n",
    "    individual_row_data = [data.text for data in row_data]\n",
    "\n",
    "print(individual_row_data)"
   ]
  },
  {
   "cell_type": "code",
   "execution_count": 81,
   "id": "9afec32d-60c9-4ea0-8a03-4eea82a88ad6",
   "metadata": {},
   "outputs": [
    {
     "data": {
      "text/html": [
       "<div>\n",
       "<style scoped>\n",
       "    .dataframe tbody tr th:only-of-type {\n",
       "        vertical-align: middle;\n",
       "    }\n",
       "\n",
       "    .dataframe tbody tr th {\n",
       "        vertical-align: top;\n",
       "    }\n",
       "\n",
       "    .dataframe thead th {\n",
       "        text-align: right;\n",
       "    }\n",
       "</style>\n",
       "<table border=\"1\" class=\"dataframe\">\n",
       "  <thead>\n",
       "    <tr style=\"text-align: right;\">\n",
       "      <th></th>\n",
       "      <th>#</th>\n",
       "      <th>Country (ordependency)</th>\n",
       "      <th>Population(2025)</th>\n",
       "      <th>YearlyChange</th>\n",
       "      <th>NetChange</th>\n",
       "      <th>Density(P/Km²)</th>\n",
       "      <th>Land Area(Km²)</th>\n",
       "      <th>Migrants(net)</th>\n",
       "      <th>Fert.Rate</th>\n",
       "      <th>MedianAge</th>\n",
       "      <th>UrbanPop %</th>\n",
       "      <th>WorldShare</th>\n",
       "    </tr>\n",
       "  </thead>\n",
       "  <tbody>\n",
       "  </tbody>\n",
       "</table>\n",
       "</div>"
      ],
      "text/plain": [
       "Empty DataFrame\n",
       "Columns: [#, Country (ordependency), Population(2025), YearlyChange, NetChange, Density(P/Km²), Land Area(Km²), Migrants(net), Fert.Rate, MedianAge, UrbanPop %, WorldShare]\n",
       "Index: []"
      ]
     },
     "execution_count": 81,
     "metadata": {},
     "output_type": "execute_result"
    }
   ],
   "source": [
    "df"
   ]
  },
  {
   "cell_type": "code",
   "execution_count": 83,
   "id": "07e4d43f-c6e7-4f23-9050-0e253c76d2d8",
   "metadata": {},
   "outputs": [
    {
     "data": {
      "text/html": [
       "<div>\n",
       "<style scoped>\n",
       "    .dataframe tbody tr th:only-of-type {\n",
       "        vertical-align: middle;\n",
       "    }\n",
       "\n",
       "    .dataframe tbody tr th {\n",
       "        vertical-align: top;\n",
       "    }\n",
       "\n",
       "    .dataframe thead th {\n",
       "        text-align: right;\n",
       "    }\n",
       "</style>\n",
       "<table border=\"1\" class=\"dataframe\">\n",
       "  <thead>\n",
       "    <tr style=\"text-align: right;\">\n",
       "      <th></th>\n",
       "      <th>#</th>\n",
       "      <th>Country (ordependency)</th>\n",
       "      <th>Population(2025)</th>\n",
       "      <th>YearlyChange</th>\n",
       "      <th>NetChange</th>\n",
       "      <th>Density(P/Km²)</th>\n",
       "      <th>Land Area(Km²)</th>\n",
       "      <th>Migrants(net)</th>\n",
       "      <th>Fert.Rate</th>\n",
       "      <th>MedianAge</th>\n",
       "      <th>UrbanPop %</th>\n",
       "      <th>WorldShare</th>\n",
       "    </tr>\n",
       "  </thead>\n",
       "  <tbody>\n",
       "    <tr>\n",
       "      <th>0</th>\n",
       "      <td>1</td>\n",
       "      <td>India</td>\n",
       "      <td>1,463,865,525</td>\n",
       "      <td>0.89%</td>\n",
       "      <td>12,929,734</td>\n",
       "      <td>492</td>\n",
       "      <td>2,973,190</td>\n",
       "      <td>−495,753</td>\n",
       "      <td>1.94</td>\n",
       "      <td>28.8</td>\n",
       "      <td>37.1%</td>\n",
       "      <td>17.78%</td>\n",
       "    </tr>\n",
       "    <tr>\n",
       "      <th>1</th>\n",
       "      <td>2</td>\n",
       "      <td>China</td>\n",
       "      <td>1,416,096,094</td>\n",
       "      <td>−0.23%</td>\n",
       "      <td>−3,225,184</td>\n",
       "      <td>151</td>\n",
       "      <td>9,388,211</td>\n",
       "      <td>−268,126</td>\n",
       "      <td>1.02</td>\n",
       "      <td>40.1</td>\n",
       "      <td>67.5%</td>\n",
       "      <td>17.20%</td>\n",
       "    </tr>\n",
       "    <tr>\n",
       "      <th>2</th>\n",
       "      <td>3</td>\n",
       "      <td>United States</td>\n",
       "      <td>347,275,807</td>\n",
       "      <td>0.54%</td>\n",
       "      <td>1,849,236</td>\n",
       "      <td>38</td>\n",
       "      <td>9,147,420</td>\n",
       "      <td>1,230,663</td>\n",
       "      <td>1.62</td>\n",
       "      <td>38.5</td>\n",
       "      <td>82.8%</td>\n",
       "      <td>4.22%</td>\n",
       "    </tr>\n",
       "    <tr>\n",
       "      <th>3</th>\n",
       "      <td>4</td>\n",
       "      <td>Indonesia</td>\n",
       "      <td>285,721,236</td>\n",
       "      <td>0.79%</td>\n",
       "      <td>2,233,305</td>\n",
       "      <td>158</td>\n",
       "      <td>1,811,570</td>\n",
       "      <td>−39,509</td>\n",
       "      <td>2.1</td>\n",
       "      <td>30.4</td>\n",
       "      <td>59.6%</td>\n",
       "      <td>3.47%</td>\n",
       "    </tr>\n",
       "    <tr>\n",
       "      <th>4</th>\n",
       "      <td>5</td>\n",
       "      <td>Pakistan</td>\n",
       "      <td>255,219,554</td>\n",
       "      <td>1.57%</td>\n",
       "      <td>3,950,390</td>\n",
       "      <td>331</td>\n",
       "      <td>770,880</td>\n",
       "      <td>−1,235,336</td>\n",
       "      <td>3.5</td>\n",
       "      <td>20.6</td>\n",
       "      <td>34.4%</td>\n",
       "      <td>3.10%</td>\n",
       "    </tr>\n",
       "    <tr>\n",
       "      <th>...</th>\n",
       "      <td>...</td>\n",
       "      <td>...</td>\n",
       "      <td>...</td>\n",
       "      <td>...</td>\n",
       "      <td>...</td>\n",
       "      <td>...</td>\n",
       "      <td>...</td>\n",
       "      <td>...</td>\n",
       "      <td>...</td>\n",
       "      <td>...</td>\n",
       "      <td>...</td>\n",
       "      <td>...</td>\n",
       "    </tr>\n",
       "    <tr>\n",
       "      <th>228</th>\n",
       "      <td>229</td>\n",
       "      <td>Montserrat</td>\n",
       "      <td>4,359</td>\n",
       "      <td>−0.68%</td>\n",
       "      <td>−30</td>\n",
       "      <td>44</td>\n",
       "      <td>100</td>\n",
       "      <td>−9</td>\n",
       "      <td>1.45</td>\n",
       "      <td>41.6</td>\n",
       "      <td>11.5%</td>\n",
       "      <td>0.000053%</td>\n",
       "    </tr>\n",
       "    <tr>\n",
       "      <th>229</th>\n",
       "      <td>230</td>\n",
       "      <td>Falkland Islands</td>\n",
       "      <td>3,469</td>\n",
       "      <td>−0.03%</td>\n",
       "      <td>−1</td>\n",
       "      <td>0</td>\n",
       "      <td>12,170</td>\n",
       "      <td>−17</td>\n",
       "      <td>1.7</td>\n",
       "      <td>42.8</td>\n",
       "      <td>68%</td>\n",
       "      <td>0.000042%</td>\n",
       "    </tr>\n",
       "    <tr>\n",
       "      <th>230</th>\n",
       "      <td>231</td>\n",
       "      <td>Tokelau</td>\n",
       "      <td>2,608</td>\n",
       "      <td>4.07%</td>\n",
       "      <td>102</td>\n",
       "      <td>261</td>\n",
       "      <td>10</td>\n",
       "      <td>53</td>\n",
       "      <td>2.57</td>\n",
       "      <td>27.3</td>\n",
       "      <td></td>\n",
       "      <td>0.000032%</td>\n",
       "    </tr>\n",
       "    <tr>\n",
       "      <th>231</th>\n",
       "      <td>232</td>\n",
       "      <td>Niue</td>\n",
       "      <td>1,821</td>\n",
       "      <td>0.11%</td>\n",
       "      <td>2</td>\n",
       "      <td>7</td>\n",
       "      <td>260</td>\n",
       "      <td>3</td>\n",
       "      <td>2.46</td>\n",
       "      <td>35.7</td>\n",
       "      <td>44.5%</td>\n",
       "      <td>0.000022%</td>\n",
       "    </tr>\n",
       "    <tr>\n",
       "      <th>232</th>\n",
       "      <td>233</td>\n",
       "      <td>Holy See</td>\n",
       "      <td>501</td>\n",
       "      <td>1.01%</td>\n",
       "      <td>5</td>\n",
       "      <td>1,253</td>\n",
       "      <td>0</td>\n",
       "      <td>13</td>\n",
       "      <td>1</td>\n",
       "      <td>57.4</td>\n",
       "      <td></td>\n",
       "      <td>0.0000061%</td>\n",
       "    </tr>\n",
       "  </tbody>\n",
       "</table>\n",
       "<p>233 rows × 12 columns</p>\n",
       "</div>"
      ],
      "text/plain": [
       "         # Country (ordependency) Population(2025) YearlyChange     NetChange  \\\n",
       "0       1                  India    1,463,865,525        0.89%    12,929,734    \n",
       "1       2                  China    1,416,096,094       −0.23%    −3,225,184    \n",
       "2       3          United States      347,275,807        0.54%     1,849,236    \n",
       "3       4              Indonesia      285,721,236        0.79%     2,233,305    \n",
       "4       5               Pakistan      255,219,554        1.57%     3,950,390    \n",
       "..     ...                    ...              ...          ...           ...   \n",
       "228   229             Montserrat            4,359       −0.68%           −30    \n",
       "229   230       Falkland Islands            3,469       −0.03%            −1    \n",
       "230   231                Tokelau            2,608        4.07%           102    \n",
       "231   232                   Niue            1,821        0.11%             2    \n",
       "232   233               Holy See              501        1.01%             5    \n",
       "\n",
       "    Density(P/Km²) Land Area(Km²) Migrants(net) Fert.Rate MedianAge  \\\n",
       "0             492      2,973,190      −495,753      1.94      28.8    \n",
       "1             151      9,388,211      −268,126      1.02      40.1    \n",
       "2              38      9,147,420     1,230,663      1.62      38.5    \n",
       "3             158      1,811,570       −39,509       2.1      30.4    \n",
       "4             331        770,880    −1,235,336       3.5      20.6    \n",
       "..             ...            ...           ...       ...       ...   \n",
       "228            44            100            −9      1.45      41.6    \n",
       "229             0         12,170           −17       1.7      42.8    \n",
       "230           261             10            53      2.57      27.3    \n",
       "231             7            260             3      2.46      35.7    \n",
       "232         1,253              0            13         1      57.4    \n",
       "\n",
       "    UrbanPop %    WorldShare  \n",
       "0       37.1%        17.78%   \n",
       "1       67.5%        17.20%   \n",
       "2       82.8%         4.22%   \n",
       "3       59.6%         3.47%   \n",
       "4       34.4%         3.10%   \n",
       "..         ...           ...  \n",
       "228     11.5%     0.000053%   \n",
       "229       68%     0.000042%   \n",
       "230               0.000032%   \n",
       "231     44.5%     0.000022%   \n",
       "232              0.0000061%   \n",
       "\n",
       "[233 rows x 12 columns]"
      ]
     },
     "execution_count": 83,
     "metadata": {},
     "output_type": "execute_result"
    }
   ],
   "source": [
    "for row in world_rows[1:]:\n",
    "    row_data = row.find_all('td')\n",
    "    individual_row_data = [data.text for data in row_data]\n",
    "\n",
    "    length= len(df)\n",
    "    df.loc[length] = individual_row_data\n",
    "\n",
    "df"
   ]
  },
  {
   "cell_type": "code",
   "execution_count": 85,
   "id": "1b55aba3-b690-4145-8a74-6442eef1c249",
   "metadata": {},
   "outputs": [],
   "source": [
    "df.to_csv(r'/Users/davidmaja/Downloads/Mock Folder/World Population Scraped.csv', index = False)"
   ]
  },
  {
   "cell_type": "code",
   "execution_count": null,
   "id": "8344678e-b31e-4308-8b7c-fce57bd5f2d1",
   "metadata": {},
   "outputs": [],
   "source": []
  },
  {
   "cell_type": "code",
   "execution_count": null,
   "id": "ca47395b-222d-45d4-b362-c12affad2657",
   "metadata": {},
   "outputs": [],
   "source": []
  },
  {
   "cell_type": "code",
   "execution_count": null,
   "id": "1def4c1c-e38e-45a1-9040-3be9a9b1a29f",
   "metadata": {},
   "outputs": [],
   "source": []
  },
  {
   "cell_type": "code",
   "execution_count": null,
   "id": "4b9d045f-87eb-4766-8140-d4f1da9b6169",
   "metadata": {},
   "outputs": [],
   "source": []
  },
  {
   "cell_type": "code",
   "execution_count": null,
   "id": "572b10f0-f37a-4da1-b5da-636d00c9fa3d",
   "metadata": {},
   "outputs": [],
   "source": []
  }
 ],
 "metadata": {
  "kernelspec": {
   "display_name": "Python 3 (ipykernel)",
   "language": "python",
   "name": "python3"
  },
  "language_info": {
   "codemirror_mode": {
    "name": "ipython",
    "version": 3
   },
   "file_extension": ".py",
   "mimetype": "text/x-python",
   "name": "python",
   "nbconvert_exporter": "python",
   "pygments_lexer": "ipython3",
   "version": "3.12.7"
  }
 },
 "nbformat": 4,
 "nbformat_minor": 5
}
